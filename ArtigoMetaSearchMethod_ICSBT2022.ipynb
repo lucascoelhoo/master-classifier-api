{
  "nbformat": 4,
  "nbformat_minor": 0,
  "metadata": {
    "colab": {
      "provenance": [],
      "collapsed_sections": [],
      "authorship_tag": "ABX9TyOusmi16sFNTpWlUZ7SEIqW",
      "include_colab_link": true
    },
    "kernelspec": {
      "name": "python3",
      "display_name": "Python 3"
    },
    "language_info": {
      "name": "python"
    }
  },
  "cells": [
    {
      "cell_type": "markdown",
      "metadata": {
        "id": "view-in-github",
        "colab_type": "text"
      },
      "source": [
        "<a href=\"https://colab.research.google.com/github/lucascoelhoo/master-classifier-api/blob/main/ArtigoMetaSearchMethod_ICSBT2022.ipynb\" target=\"_parent\"><img src=\"https://colab.research.google.com/assets/colab-badge.svg\" alt=\"Open In Colab\"/></a>"
      ]
    },
    {
      "cell_type": "code",
      "execution_count": 1,
      "metadata": {
        "colab": {
          "base_uri": "https://localhost:8080/"
        },
        "id": "C5cqXzBSqlZv",
        "outputId": "7f0eddf5-d181-49c8-a499-894666972eda"
      },
      "outputs": [
        {
          "output_type": "stream",
          "name": "stdout",
          "text": [
            "                                             Content Label\n",
            "0  every once in a while you see a film that is s...   pos\n",
            "1  the love for family is one of the strongest dr...   pos\n",
            "2  after the terminally bleak reservoir dogs and ...   pos\n",
            "3   ( warning to those who have not seen seven : ...   pos\n",
            "4  having not seen , \" who framed roger rabbit \" ...   pos\n",
            "5  melvin van peebles' \" sweet sweetback's baadas...   pos\n",
            "6  edward zwick's \" the siege \" raises more quest...   pos\n",
            "7  an energetic , visually stunning , but intelle...   pos\n",
            "8  the keen wisdom of an elderly bank robber , th...   pos\n",
            "9  is jimmy stewart the greatest actor of all-tim...   pos\n",
            "\n",
            "\n",
            "\n",
            "  (0, 12442)\t0.02702055838392124\n",
            "  (0, 1128)\t0.02571589890424715\n",
            "  (0, 4118)\t0.05099142562618731\n",
            "  (0, 5847)\t0.05037536781236324\n",
            "  (0, 4138)\t0.06715571036579193\n",
            "  (0, 8958)\t0.04936626445345458\n",
            "  (0, 5246)\t0.04732970629650998\n",
            "  (0, 9680)\t0.0426920338509739\n",
            "  (0, 7331)\t0.04978865745480442\n",
            "  (0, 3603)\t0.06715571036579193\n",
            "  (0, 2758)\t0.05381945880415767\n",
            "  (0, 9350)\t0.02724826521754145\n",
            "  (0, 3136)\t0.03719762745122791\n",
            "  (0, 11835)\t0.05804405422275094\n",
            "  (0, 2106)\t0.04469877474650158\n",
            "  (0, 2540)\t0.06276197834586864\n",
            "  (0, 3429)\t0.08258798241515057\n",
            "  (0, 3094)\t0.04221818354936852\n",
            "  (0, 9583)\t0.07306337400869095\n",
            "  (0, 11883)\t0.048179601120214625\n",
            "  (0, 4989)\t0.07050555002602447\n",
            "  (0, 4800)\t0.026533944026732918\n",
            "  (0, 11024)\t0.04245283043327988\n",
            "  (0, 12214)\t0.028324563115548446\n",
            "  (0, 9619)\t0.02755071979934896\n",
            "  :\t:\n",
            "  (1799, 12153)\t0.044391864013334184\n",
            "  (1799, 11242)\t0.03506106994278178\n",
            "  (1799, 3849)\t0.049377919211746356\n",
            "  (1799, 7784)\t0.08804948531802666\n",
            "  (1799, 3739)\t0.03438985583961642\n",
            "  (1799, 6629)\t0.03480612079568713\n",
            "  (1799, 11216)\t0.021049763204091507\n",
            "  (1799, 12220)\t0.0364304030079569\n",
            "  (1799, 12373)\t0.03309958262567403\n",
            "  (1799, 11819)\t0.021429418776494163\n",
            "  (1799, 5839)\t0.03934128546029157\n",
            "  (1799, 4712)\t0.0453838123984977\n",
            "  (1799, 351)\t0.02625180984507653\n",
            "  (1799, 7807)\t0.03493211055108311\n",
            "  (1799, 8917)\t0.03003798787791044\n",
            "  (1799, 8767)\t0.060700329828146805\n",
            "  (1799, 8276)\t0.08333446147221474\n",
            "  (1799, 11938)\t0.02815655784925076\n",
            "  (1799, 10308)\t0.02257116466504279\n",
            "  (1799, 151)\t0.0363041467549089\n",
            "  (1799, 12277)\t0.0558696969674494\n",
            "  (1799, 5921)\t0.026368755657387\n",
            "  (1799, 10270)\t0.035825435782458226\n",
            "  (1799, 9768)\t0.058854960742190356\n",
            "  (1799, 12228)\t0.04802380732689773\n",
            "\n",
            "\n",
            "Results for SVC(kernel=linear)\n",
            "Training time: 14.451497s; Prediction time: 1.325882s\n",
            "positive:  {'precision': 0.9191919191919192, 'recall': 0.91, 'f1-score': 0.9145728643216081, 'support': 100}\n",
            "negative:  {'precision': 0.9108910891089109, 'recall': 0.92, 'f1-score': 0.9154228855721394, 'support': 100}\n"
          ]
        }
      ],
      "source": [
        "# Dataset: Polarity dataset v2.0\n",
        "# http://www.cs.cornell.edu/people/pabo/movie-review-data/\n",
        "#\n",
        "# Discussion at https://medium.com/@vasista/sentiment-analysis-textblob-vs-svm-338d418e3ff1\n",
        "\n",
        "from sklearn.feature_extraction.text import TfidfVectorizer\n",
        "import time\n",
        "from sklearn import svm\n",
        "from sklearn.metrics import classification_report\n",
        "import pandas as pd\n",
        "\n",
        "# train Data\n",
        "trainData = pd.read_csv(\"https://raw.githubusercontent.com/Vasistareddy/sentiment_analysis/master/data/train.csv\")\n",
        "print(trainData.iloc[:10])\n",
        "print(\"\\n\\n\")\n",
        "# test Data\n",
        "testData = pd.read_csv(\"https://raw.githubusercontent.com/Vasistareddy/sentiment_analysis/master/data/test.csv\")\n",
        "\n",
        "# Create feature vectors\n",
        "vectorizer = TfidfVectorizer(min_df = 5,\n",
        "                             max_df = 0.8,\n",
        "                             sublinear_tf = True,\n",
        "                             use_idf = True)\n",
        "\n",
        "train_vectors = vectorizer.fit_transform(trainData['Content'])\n",
        "test_vectors = vectorizer.transform(testData['Content'])\n",
        "\n",
        "print(train_vectors)\n",
        "print(\"\\n\")\n",
        "\n",
        "\n",
        "\n",
        "# Perform classification with SVM, kernel=linear\n",
        "classifier_linear = svm.SVC(kernel='linear')\n",
        "t0 = time.time()\n",
        "classifier_linear.fit(train_vectors, trainData['Label'])\n",
        "t1 = time.time()\n",
        "prediction_linear = classifier_linear.predict(test_vectors)\n",
        "t2 = time.time()\n",
        "time_linear_train = t1-t0\n",
        "time_linear_predict = t2-t1\n",
        "\n",
        "# results\n",
        "print(\"Results for SVC(kernel=linear)\")\n",
        "print(\"Training time: %fs; Prediction time: %fs\" % (time_linear_train, time_linear_predict))\n",
        "report = classification_report(testData['Label'], prediction_linear, output_dict=True)\n",
        "print('positive: ', report['pos'])\n",
        "print('negative: ', report['neg'])\n",
        "\n"
      ]
    },
    {
      "cell_type": "code",
      "source": [
        "testData['Label']=prediction_linear\n",
        "print(testData)"
      ],
      "metadata": {
        "colab": {
          "base_uri": "https://localhost:8080/"
        },
        "id": "j__J-D2yrqjS",
        "outputId": "1bb3e0da-98e8-47e3-f5ea-d8ff75b10b55"
      },
      "execution_count": null,
      "outputs": [
        {
          "output_type": "stream",
          "name": "stdout",
          "text": [
            "                                               Content Label\n",
            "0    hedwig ( john cameron mitchell ) was born a bo...   pos\n",
            "1    one of the more unusual and suggestively viole...   pos\n",
            "2    what do you get when you combine clueless and ...   neg\n",
            "3    >from the man who presented us with henry : th...   pos\n",
            "4    tibet has entered the american consciousness s...   pos\n",
            "..                                                 ...   ...\n",
            "195  my inner flag was at half-mast last year when ...   neg\n",
            "196  if anything , \" stigmata \" should be taken as ...   neg\n",
            "197  woof ! too bad that leap of faith was the titl...   neg\n",
            "198  the plot of big momma's house is martin lawren...   neg\n",
            "199  in the year 2029 , captain leo davidson ( mark...   pos\n",
            "\n",
            "[200 rows x 2 columns]\n"
          ]
        }
      ]
    },
    {
      "cell_type": "code",
      "source": [
        "# train Data\n",
        "trainData = pd.read_csv(\"https://raw.githubusercontent.com/Vasistareddy/sentiment_analysis/master/data/train.csv\")\n",
        "print(trainData.iloc[:10])"
      ],
      "metadata": {
        "colab": {
          "base_uri": "https://localhost:8080/"
        },
        "id": "cHLt1WNithX3",
        "outputId": "e74a4ede-45e1-4091-d94f-c6e7cfbe8013"
      },
      "execution_count": null,
      "outputs": [
        {
          "output_type": "stream",
          "name": "stdout",
          "text": [
            "                                             Content Label\n",
            "0  every once in a while you see a film that is s...   pos\n",
            "1  the love for family is one of the strongest dr...   pos\n",
            "2  after the terminally bleak reservoir dogs and ...   pos\n",
            "3   ( warning to those who have not seen seven : ...   pos\n",
            "4  having not seen , \" who framed roger rabbit \" ...   pos\n",
            "5  melvin van peebles' \" sweet sweetback's baadas...   pos\n",
            "6  edward zwick's \" the siege \" raises more quest...   pos\n",
            "7  an energetic , visually stunning , but intelle...   pos\n",
            "8  the keen wisdom of an elderly bank robber , th...   pos\n",
            "9  is jimmy stewart the greatest actor of all-tim...   pos\n"
          ]
        }
      ]
    },
    {
      "cell_type": "code",
      "source": [
        "# Separating selected original data and inflated data dataframes\n",
        "data = {\"Content\":[], \"Label\":[], \"Enriched\":[]}\n",
        "\n",
        "df = pd.DataFrame(data)\n",
        "\n",
        "selected = trainData[895:904][[\"Content\",\"Label\"]]\n",
        "#inflated1 = trainData[:895][[\"Content\",\"Label\"]]\n",
        "#inflated2 = trainData[905:][[\"Content\",\"Label\"]]\n",
        "\n",
        "inflated1 = trainData[:100][[\"Content\",\"Label\"]]\n",
        "inflated2 = trainData[1700:][[\"Content\",\"Label\"]]\n",
        "\n",
        "inflated_frames = [inflated1, inflated2]\n",
        "\n",
        "originalData = selected.copy()\n",
        "inflatedData = pd.concat(inflated_frames).copy()\n",
        "print(originalData)\n",
        "print(inflatedData)"
      ],
      "metadata": {
        "colab": {
          "base_uri": "https://localhost:8080/"
        },
        "id": "i-P5mTZ05vpN",
        "outputId": "5db3c224-02ac-4f76-f912-272344cf34e7"
      },
      "execution_count": null,
      "outputs": [
        {
          "output_type": "stream",
          "name": "stdout",
          "text": [
            "                                               Content Label\n",
            "895  the muppet movie is the first , and the best m...   pos\n",
            "896  so many students strive to get into schools su...   pos\n",
            "897  there's something about ben stiller that makes...   pos\n",
            "898  the most common ( and in many cases the only )...   pos\n",
            "899  capsule : trippy , hyperspeed action machine f...   pos\n",
            "900   \" my name is jack carter , and you don't want...   neg\n",
            "901  if you've been following william fichtner's ca...   neg\n",
            "902  it's almost amusing to watch 21-year old chris...   neg\n",
            "903  the word to describe sharon stone is \" wonder ...   neg\n",
            "                                                Content Label\n",
            "0     every once in a while you see a film that is s...   pos\n",
            "1     the love for family is one of the strongest dr...   pos\n",
            "2     after the terminally bleak reservoir dogs and ...   pos\n",
            "3      ( warning to those who have not seen seven : ...   pos\n",
            "4     having not seen , \" who framed roger rabbit \" ...   pos\n",
            "...                                                 ...   ...\n",
            "1795   \" holy man \" boasts a sweet , gentle , comic ...   neg\n",
            "1796  alexander dumas' the three musketeers is one o...   neg\n",
            "1797   \" have you ever heard the one about a movie s...   neg\n",
            "1798  this is the first film in what would become th...   neg\n",
            "1799  first impressions : critically , a close-to-aw...   neg\n",
            "\n",
            "[200 rows x 2 columns]\n"
          ]
        }
      ]
    },
    {
      "cell_type": "code",
      "source": [
        "# Inflating selected original dataframe\n",
        "originalData['Inflated']=\"\"\n",
        "for index_selected, row_selected in originalData.iterrows():\n",
        "  frames=[]\n",
        "  for index_inflated, row_inflated in inflatedData.iterrows():\n",
        "    if row_inflated['Label'] == row_selected['Label']:\n",
        "      frames.append(row_inflated['Content'])\n",
        "  row_selected['Inflated']=frames"
      ],
      "metadata": {
        "id": "sS59nm2q7-Fv"
      },
      "execution_count": null,
      "outputs": []
    },
    {
      "cell_type": "code",
      "source": [
        "print(originalData)"
      ],
      "metadata": {
        "colab": {
          "base_uri": "https://localhost:8080/"
        },
        "id": "DvX1QVeM9Ah-",
        "outputId": "e8089973-fe28-4d5d-cd04-e55fa224a9b4"
      },
      "execution_count": null,
      "outputs": [
        {
          "output_type": "stream",
          "name": "stdout",
          "text": [
            "                                               Content Label  \\\n",
            "895  the muppet movie is the first , and the best m...   pos   \n",
            "896  so many students strive to get into schools su...   pos   \n",
            "897  there's something about ben stiller that makes...   pos   \n",
            "898  the most common ( and in many cases the only )...   pos   \n",
            "899  capsule : trippy , hyperspeed action machine f...   pos   \n",
            "900   \" my name is jack carter , and you don't want...   neg   \n",
            "901  if you've been following william fichtner's ca...   neg   \n",
            "902  it's almost amusing to watch 21-year old chris...   neg   \n",
            "903  the word to describe sharon stone is \" wonder ...   neg   \n",
            "\n",
            "                                              Inflated  \n",
            "895  [every once in a while you see a film that is ...  \n",
            "896  [every once in a while you see a film that is ...  \n",
            "897  [every once in a while you see a film that is ...  \n",
            "898  [every once in a while you see a film that is ...  \n",
            "899  [every once in a while you see a film that is ...  \n",
            "900  [ \" nothing more than a high budget masturbati...  \n",
            "901  [ \" nothing more than a high budget masturbati...  \n",
            "902  [ \" nothing more than a high budget masturbati...  \n",
            "903  [ \" nothing more than a high budget masturbati...  \n"
          ]
        }
      ]
    },
    {
      "cell_type": "code",
      "source": [
        "# Function to perform keyword search on enriched data\n",
        "def findWord(keyword):\n",
        "  for index, row in originalData.iterrows():\n",
        "    if keyword in row['Content']:\n",
        "      print(row)\n",
        "      print(\"\\n\")\n",
        "      continue\n",
        "    for row_inflated in row['Inflated']:\n",
        "      if keyword in row_inflated:\n",
        "        print(\"***********Selected data:\")\n",
        "        print(row)\n",
        "        print(\"***********Size of inflated data array:\")\n",
        "        print(len(row_inflated))\n",
        "        print(\"***********Begin of Inflated data array:\")\n",
        "        print(\"{0:>5}\".format(row_inflated))\n",
        "        print(\"\\n\")\n",
        "        break\n",
        "      "
      ],
      "metadata": {
        "id": "NRjcNPg95d-N"
      },
      "execution_count": null,
      "outputs": []
    },
    {
      "cell_type": "code",
      "source": [
        "findWord(\"worst of all\")"
      ],
      "metadata": {
        "colab": {
          "base_uri": "https://localhost:8080/"
        },
        "id": "2W7rrUED-4Tp",
        "outputId": "a0c3c205-5847-4aa5-d755-b5667f95b6d0"
      },
      "execution_count": null,
      "outputs": [
        {
          "output_type": "stream",
          "name": "stdout",
          "text": [
            "***********Selected data:\n",
            "Content      \" my name is jack carter , and you don't want...\n",
            "Label                                                     neg\n",
            "Inflated    [ \" nothing more than a high budget masturbati...\n",
            "Name: 900, dtype: object\n",
            "***********Size of inflated data array:\n",
            "2765\n",
            "***********Begin of Inflated data array:\n",
            "plot : token director alan smithee steals the only copy of his film \" trio \" from the studio , after they complete the \" final cut \" without him . \n",
            "he threatens to burn the film reel if they do not allow him to keep his vision . \n",
            "critique : wow . \n",
            "i really can't remember the last time a movie sucked on so many levels ! \n",
            "the \" comedy \" in this film is pathetic , obvious and dated ( oj simpson jokes galore ) . \n",
            "the plot is uninteresting , boring and bad . \n",
            "the structure of the film is annoying , repetitive and pretentious . \n",
            "the acting is pretty bad , especially jackie chan , who can't act to save his life . \n",
            "the cameos are lame and seem forced , and the ending blows chunks . \n",
            "all in all , this movie believes itself to be a clever , humorous and edgy look behind the closed doors of hollywood , but comes across as a boring , stupid and completely unentertaining piece of shite . \n",
            "i love to see movies about hollywood shenanigans , but this one bites the big one . \n",
            "see it if you like to watch really bad movies , otherwise skip it , because it will just have you hating every star that makes an appearance in it . \n",
            "luckily for us all , this mess only lasts about 80 minutes , and miramax honcho harvey weinstein plays a lead-faced detective . \n",
            "by the way , is there any reason why the studio or the producer couldn't have cut another version of the film by the way of all the filmed stock that was left over ? \n",
            "who knows , who cares , this \" satire \" sucks the bag . \n",
            "little known facts about this film and its stars : ironically , the original director of this film , arthur hiller , also requested his name be taken off the credits and replaced by the dga's alan smithee moniker . \n",
            "this was after the film's production company , cinergi pictures , preferred the cut made by producer/writer joe eszterhas to his . \n",
            "the original script of this film included arnold schwarzenegger and bruce willis . \n",
            "eszterhas announced through the media during post-production that cinergi pictures didn't have the money to pay for soundtrack . \n",
            "he said that he would finance the soundtrack from his own money and asked to submit tracks for it to him . \n",
            "he received 9 , 200 cds and cassettes from mostly unknown and unsigned artists , listened to all that was sent ( at least a couple of tracks from each record ) and compiled the soundtrack . \n",
            "this film practically swept the \" razzie awards \" in 1999 , given out to the worst of all movie categories of the year , with no less than the \" worst picture \" award , the \" worst screenplay \" ( joe eszterhas ) , the \" worst supporting actor \" ( joe eszterhas ) , the \" worst new star \" ( joe eszterhas tied with jerry springer ) and the \" worst original song \" ( \" i wanna be mike ovitz ! \" \n",
            "as written by joe eszterhas ) . \n",
            "\n",
            "\n",
            "\n",
            "***********Selected data:\n",
            "Content     if you've been following william fichtner's ca...\n",
            "Label                                                     neg\n",
            "Inflated    [ \" nothing more than a high budget masturbati...\n",
            "Name: 901, dtype: object\n",
            "***********Size of inflated data array:\n",
            "2765\n",
            "***********Begin of Inflated data array:\n",
            "plot : token director alan smithee steals the only copy of his film \" trio \" from the studio , after they complete the \" final cut \" without him . \n",
            "he threatens to burn the film reel if they do not allow him to keep his vision . \n",
            "critique : wow . \n",
            "i really can't remember the last time a movie sucked on so many levels ! \n",
            "the \" comedy \" in this film is pathetic , obvious and dated ( oj simpson jokes galore ) . \n",
            "the plot is uninteresting , boring and bad . \n",
            "the structure of the film is annoying , repetitive and pretentious . \n",
            "the acting is pretty bad , especially jackie chan , who can't act to save his life . \n",
            "the cameos are lame and seem forced , and the ending blows chunks . \n",
            "all in all , this movie believes itself to be a clever , humorous and edgy look behind the closed doors of hollywood , but comes across as a boring , stupid and completely unentertaining piece of shite . \n",
            "i love to see movies about hollywood shenanigans , but this one bites the big one . \n",
            "see it if you like to watch really bad movies , otherwise skip it , because it will just have you hating every star that makes an appearance in it . \n",
            "luckily for us all , this mess only lasts about 80 minutes , and miramax honcho harvey weinstein plays a lead-faced detective . \n",
            "by the way , is there any reason why the studio or the producer couldn't have cut another version of the film by the way of all the filmed stock that was left over ? \n",
            "who knows , who cares , this \" satire \" sucks the bag . \n",
            "little known facts about this film and its stars : ironically , the original director of this film , arthur hiller , also requested his name be taken off the credits and replaced by the dga's alan smithee moniker . \n",
            "this was after the film's production company , cinergi pictures , preferred the cut made by producer/writer joe eszterhas to his . \n",
            "the original script of this film included arnold schwarzenegger and bruce willis . \n",
            "eszterhas announced through the media during post-production that cinergi pictures didn't have the money to pay for soundtrack . \n",
            "he said that he would finance the soundtrack from his own money and asked to submit tracks for it to him . \n",
            "he received 9 , 200 cds and cassettes from mostly unknown and unsigned artists , listened to all that was sent ( at least a couple of tracks from each record ) and compiled the soundtrack . \n",
            "this film practically swept the \" razzie awards \" in 1999 , given out to the worst of all movie categories of the year , with no less than the \" worst picture \" award , the \" worst screenplay \" ( joe eszterhas ) , the \" worst supporting actor \" ( joe eszterhas ) , the \" worst new star \" ( joe eszterhas tied with jerry springer ) and the \" worst original song \" ( \" i wanna be mike ovitz ! \" \n",
            "as written by joe eszterhas ) . \n",
            "\n",
            "\n",
            "\n",
            "***********Selected data:\n",
            "Content     it's almost amusing to watch 21-year old chris...\n",
            "Label                                                     neg\n",
            "Inflated    [ \" nothing more than a high budget masturbati...\n",
            "Name: 902, dtype: object\n",
            "***********Size of inflated data array:\n",
            "2765\n",
            "***********Begin of Inflated data array:\n",
            "plot : token director alan smithee steals the only copy of his film \" trio \" from the studio , after they complete the \" final cut \" without him . \n",
            "he threatens to burn the film reel if they do not allow him to keep his vision . \n",
            "critique : wow . \n",
            "i really can't remember the last time a movie sucked on so many levels ! \n",
            "the \" comedy \" in this film is pathetic , obvious and dated ( oj simpson jokes galore ) . \n",
            "the plot is uninteresting , boring and bad . \n",
            "the structure of the film is annoying , repetitive and pretentious . \n",
            "the acting is pretty bad , especially jackie chan , who can't act to save his life . \n",
            "the cameos are lame and seem forced , and the ending blows chunks . \n",
            "all in all , this movie believes itself to be a clever , humorous and edgy look behind the closed doors of hollywood , but comes across as a boring , stupid and completely unentertaining piece of shite . \n",
            "i love to see movies about hollywood shenanigans , but this one bites the big one . \n",
            "see it if you like to watch really bad movies , otherwise skip it , because it will just have you hating every star that makes an appearance in it . \n",
            "luckily for us all , this mess only lasts about 80 minutes , and miramax honcho harvey weinstein plays a lead-faced detective . \n",
            "by the way , is there any reason why the studio or the producer couldn't have cut another version of the film by the way of all the filmed stock that was left over ? \n",
            "who knows , who cares , this \" satire \" sucks the bag . \n",
            "little known facts about this film and its stars : ironically , the original director of this film , arthur hiller , also requested his name be taken off the credits and replaced by the dga's alan smithee moniker . \n",
            "this was after the film's production company , cinergi pictures , preferred the cut made by producer/writer joe eszterhas to his . \n",
            "the original script of this film included arnold schwarzenegger and bruce willis . \n",
            "eszterhas announced through the media during post-production that cinergi pictures didn't have the money to pay for soundtrack . \n",
            "he said that he would finance the soundtrack from his own money and asked to submit tracks for it to him . \n",
            "he received 9 , 200 cds and cassettes from mostly unknown and unsigned artists , listened to all that was sent ( at least a couple of tracks from each record ) and compiled the soundtrack . \n",
            "this film practically swept the \" razzie awards \" in 1999 , given out to the worst of all movie categories of the year , with no less than the \" worst picture \" award , the \" worst screenplay \" ( joe eszterhas ) , the \" worst supporting actor \" ( joe eszterhas ) , the \" worst new star \" ( joe eszterhas tied with jerry springer ) and the \" worst original song \" ( \" i wanna be mike ovitz ! \" \n",
            "as written by joe eszterhas ) . \n",
            "\n",
            "\n",
            "\n",
            "***********Selected data:\n",
            "Content     the word to describe sharon stone is \" wonder ...\n",
            "Label                                                     neg\n",
            "Inflated    [ \" nothing more than a high budget masturbati...\n",
            "Name: 903, dtype: object\n",
            "***********Size of inflated data array:\n",
            "2765\n",
            "***********Begin of Inflated data array:\n",
            "plot : token director alan smithee steals the only copy of his film \" trio \" from the studio , after they complete the \" final cut \" without him . \n",
            "he threatens to burn the film reel if they do not allow him to keep his vision . \n",
            "critique : wow . \n",
            "i really can't remember the last time a movie sucked on so many levels ! \n",
            "the \" comedy \" in this film is pathetic , obvious and dated ( oj simpson jokes galore ) . \n",
            "the plot is uninteresting , boring and bad . \n",
            "the structure of the film is annoying , repetitive and pretentious . \n",
            "the acting is pretty bad , especially jackie chan , who can't act to save his life . \n",
            "the cameos are lame and seem forced , and the ending blows chunks . \n",
            "all in all , this movie believes itself to be a clever , humorous and edgy look behind the closed doors of hollywood , but comes across as a boring , stupid and completely unentertaining piece of shite . \n",
            "i love to see movies about hollywood shenanigans , but this one bites the big one . \n",
            "see it if you like to watch really bad movies , otherwise skip it , because it will just have you hating every star that makes an appearance in it . \n",
            "luckily for us all , this mess only lasts about 80 minutes , and miramax honcho harvey weinstein plays a lead-faced detective . \n",
            "by the way , is there any reason why the studio or the producer couldn't have cut another version of the film by the way of all the filmed stock that was left over ? \n",
            "who knows , who cares , this \" satire \" sucks the bag . \n",
            "little known facts about this film and its stars : ironically , the original director of this film , arthur hiller , also requested his name be taken off the credits and replaced by the dga's alan smithee moniker . \n",
            "this was after the film's production company , cinergi pictures , preferred the cut made by producer/writer joe eszterhas to his . \n",
            "the original script of this film included arnold schwarzenegger and bruce willis . \n",
            "eszterhas announced through the media during post-production that cinergi pictures didn't have the money to pay for soundtrack . \n",
            "he said that he would finance the soundtrack from his own money and asked to submit tracks for it to him . \n",
            "he received 9 , 200 cds and cassettes from mostly unknown and unsigned artists , listened to all that was sent ( at least a couple of tracks from each record ) and compiled the soundtrack . \n",
            "this film practically swept the \" razzie awards \" in 1999 , given out to the worst of all movie categories of the year , with no less than the \" worst picture \" award , the \" worst screenplay \" ( joe eszterhas ) , the \" worst supporting actor \" ( joe eszterhas ) , the \" worst new star \" ( joe eszterhas tied with jerry springer ) and the \" worst original song \" ( \" i wanna be mike ovitz ! \" \n",
            "as written by joe eszterhas ) . \n",
            "\n",
            "\n",
            "\n"
          ]
        }
      ]
    },
    {
      "cell_type": "code",
      "source": [
        "findWord(\"disgust\")"
      ],
      "metadata": {
        "id": "Mo0dHFHKAMMC",
        "colab": {
          "base_uri": "https://localhost:8080/"
        },
        "outputId": "6600009b-afe0-43a3-885e-41ec5efdacc6"
      },
      "execution_count": null,
      "outputs": [
        {
          "output_type": "stream",
          "name": "stdout",
          "text": [
            "Content      \" my name is jack carter , and you don't want...\n",
            "Label                                                     neg\n",
            "Inflated    [ \" nothing more than a high budget masturbati...\n",
            "Name: 900, dtype: object\n",
            "***********Found in inflated data:\n",
            "Content     if you've been following william fichtner's ca...\n",
            "Label                                                     neg\n",
            "Inflated    [ \" nothing more than a high budget masturbati...\n",
            "Name: 901, dtype: object\n",
            "***********Found in inflated data:\n",
            "Content     it's almost amusing to watch 21-year old chris...\n",
            "Label                                                     neg\n",
            "Inflated    [ \" nothing more than a high budget masturbati...\n",
            "Name: 902, dtype: object\n",
            "***********Found in inflated data:\n",
            "Content     the word to describe sharon stone is \" wonder ...\n",
            "Label                                                     neg\n",
            "Inflated    [ \" nothing more than a high budget masturbati...\n",
            "Name: 903, dtype: object\n",
            "***********Found in inflated data:\n"
          ]
        }
      ]
    },
    {
      "cell_type": "code",
      "source": [
        "findWord(\"amazed\")"
      ],
      "metadata": {
        "colab": {
          "base_uri": "https://localhost:8080/"
        },
        "id": "7HaccbzMM6Sd",
        "outputId": "c4ff5e8f-e4cd-4742-e346-0a7d29e190be"
      },
      "execution_count": null,
      "outputs": [
        {
          "output_type": "stream",
          "name": "stdout",
          "text": [
            "Content     the muppet movie is the first , and the best m...\n",
            "Label                                                     pos\n",
            "Inflated    [every once in a while you see a film that is ...\n",
            "Name: 895, dtype: object\n",
            "***********Found in inflated data:\n",
            "Content     so many students strive to get into schools su...\n",
            "Label                                                     pos\n",
            "Inflated    [every once in a while you see a film that is ...\n",
            "Name: 896, dtype: object\n",
            "***********Found in inflated data:\n",
            "Content     there's something about ben stiller that makes...\n",
            "Label                                                     pos\n",
            "Inflated    [every once in a while you see a film that is ...\n",
            "Name: 897, dtype: object\n",
            "***********Found in inflated data:\n",
            "Content     the most common ( and in many cases the only )...\n",
            "Label                                                     pos\n",
            "Inflated    [every once in a while you see a film that is ...\n",
            "Name: 898, dtype: object\n",
            "***********Found in inflated data:\n",
            "Content     capsule : trippy , hyperspeed action machine f...\n",
            "Label                                                     pos\n",
            "Inflated    [every once in a while you see a film that is ...\n",
            "Name: 899, dtype: object\n",
            "***********Found in inflated data:\n"
          ]
        }
      ]
    },
    {
      "cell_type": "code",
      "source": [
        "findWord(\"watch again\")"
      ],
      "metadata": {
        "colab": {
          "base_uri": "https://localhost:8080/"
        },
        "id": "TfDESddxNS4V",
        "outputId": "c4f3c14e-af7e-4eb6-c64a-bae4b97db4f1"
      },
      "execution_count": null,
      "outputs": [
        {
          "output_type": "stream",
          "name": "stdout",
          "text": [
            "Content     the muppet movie is the first , and the best m...\n",
            "Label                                                     pos\n",
            "Inflated    [every once in a while you see a film that is ...\n",
            "Name: 895, dtype: object\n",
            "***********Found in inflated data:\n",
            "Content     so many students strive to get into schools su...\n",
            "Label                                                     pos\n",
            "Inflated    [every once in a while you see a film that is ...\n",
            "Name: 896, dtype: object\n",
            "***********Found in inflated data:\n",
            "Content     there's something about ben stiller that makes...\n",
            "Label                                                     pos\n",
            "Inflated    [every once in a while you see a film that is ...\n",
            "Name: 897, dtype: object\n",
            "***********Found in inflated data:\n",
            "Content     the most common ( and in many cases the only )...\n",
            "Label                                                     pos\n",
            "Inflated    [every once in a while you see a film that is ...\n",
            "Name: 898, dtype: object\n",
            "***********Found in inflated data:\n",
            "Content     capsule : trippy , hyperspeed action machine f...\n",
            "Label                                                     pos\n",
            "Inflated    [every once in a while you see a film that is ...\n",
            "Name: 899, dtype: object\n",
            "***********Found in inflated data:\n"
          ]
        }
      ]
    },
    {
      "cell_type": "code",
      "source": [
        "findWord(\"good\")"
      ],
      "metadata": {
        "colab": {
          "base_uri": "https://localhost:8080/"
        },
        "id": "lTR6t26-ODXz",
        "outputId": "aa9beec4-b162-4425-8d68-417c207cac6d"
      },
      "execution_count": null,
      "outputs": [
        {
          "output_type": "stream",
          "name": "stdout",
          "text": [
            "Content     the muppet movie is the first , and the best m...\n",
            "Label                                                     pos\n",
            "Inflated    [every once in a while you see a film that is ...\n",
            "Name: 895, dtype: object\n",
            "***********Found in inflated data:\n",
            "Content     so many students strive to get into schools su...\n",
            "Label                                                     pos\n",
            "Inflated    [every once in a while you see a film that is ...\n",
            "Name: 896, dtype: object\n",
            "\n",
            "\n",
            "Content     there's something about ben stiller that makes...\n",
            "Label                                                     pos\n",
            "Inflated    [every once in a while you see a film that is ...\n",
            "Name: 897, dtype: object\n",
            "***********Found in inflated data:\n",
            "Content     the most common ( and in many cases the only )...\n",
            "Label                                                     pos\n",
            "Inflated    [every once in a while you see a film that is ...\n",
            "Name: 898, dtype: object\n",
            "\n",
            "\n",
            "Content     capsule : trippy , hyperspeed action machine f...\n",
            "Label                                                     pos\n",
            "Inflated    [every once in a while you see a film that is ...\n",
            "Name: 899, dtype: object\n",
            "\n",
            "\n",
            "Content      \" my name is jack carter , and you don't want...\n",
            "Label                                                     neg\n",
            "Inflated    [ \" nothing more than a high budget masturbati...\n",
            "Name: 900, dtype: object\n",
            "***********Found in inflated data:\n",
            "Content     if you've been following william fichtner's ca...\n",
            "Label                                                     neg\n",
            "Inflated    [ \" nothing more than a high budget masturbati...\n",
            "Name: 901, dtype: object\n",
            "\n",
            "\n",
            "Content     it's almost amusing to watch 21-year old chris...\n",
            "Label                                                     neg\n",
            "Inflated    [ \" nothing more than a high budget masturbati...\n",
            "Name: 902, dtype: object\n",
            "\n",
            "\n",
            "Content     the word to describe sharon stone is \" wonder ...\n",
            "Label                                                     neg\n",
            "Inflated    [ \" nothing more than a high budget masturbati...\n",
            "Name: 903, dtype: object\n",
            "***********Found in inflated data:\n"
          ]
        }
      ]
    }
  ]
}